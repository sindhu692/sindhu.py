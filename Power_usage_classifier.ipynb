{
  "nbformat": 4,
  "nbformat_minor": 0,
  "metadata": {
    "colab": {
      "provenance": [],
      "authorship_tag": "ABX9TyPz9V78NkDdbeIdfwlkgpYH",
      "include_colab_link": true
    },
    "kernelspec": {
      "name": "python3",
      "display_name": "Python 3"
    },
    "language_info": {
      "name": "python"
    }
  },
  "cells": [
    {
      "cell_type": "markdown",
      "metadata": {
        "id": "view-in-github",
        "colab_type": "text"
      },
      "source": [
        "<a href=\"https://colab.research.google.com/github/sindhu692/sindhu.py/blob/main/Power_usage_classifier.ipynb\" target=\"_parent\"><img src=\"https://colab.research.google.com/assets/colab-badge.svg\" alt=\"Open In Colab\"/></a>"
      ]
    },
    {
      "cell_type": "code",
      "execution_count": 7,
      "metadata": {
        "colab": {
          "base_uri": "https://localhost:8080/"
        },
        "id": "5ASJm_Ct9PZu",
        "outputId": "a02eb559-e8e1-4617-903f-5d833831384a"
      },
      "outputs": [
        {
          "output_type": "stream",
          "name": "stdout",
          "text": [
            "Enter your 7 days power Day 1: 2.3\n",
            "Enter your 7 days power Day 2: 2.5\n",
            "Enter your 7 days power Day 3: 2.8\n",
            "Enter your 7 days power Day 4: 3.5\n",
            "Enter your 7 days power Day 5: 6.7\n",
            "Enter your 7 days power Day 6: 6.6\n",
            "Enter your 7 days power Day 7: 8.9\n",
            "[2.3 2.5 2.8 3.5 6.7 6.6 8.9]\n",
            "Summary:\n",
            "Low: 1 day(s)\n",
            "Moderate: 3 day(s)\n",
            "High: 3 day(s)\n"
          ]
        }
      ],
      "source": [
        "import numpy\n",
        "import numpy as np\n",
        "l=[]\n",
        "for i in range(7):\n",
        "  x=float(input(f\"Enter your 7 days power Day {i+1}: \"))\n",
        "  l.append(x)\n",
        "arr=np.array(l)\n",
        "print(arr)\n",
        "def classify_power(usage):\n",
        "  low_days=0\n",
        "  moderate_days=0\n",
        "  high_days=0\n",
        "  for i in range(len(usage)):\n",
        "    if usage[i]<2.5:\n",
        "      low_days+=1\n",
        "    elif usage[i]>=2.5 and usage[i]<=5:\n",
        "      moderate_days+=1\n",
        "    else:\n",
        "      high_days+=1\n",
        "  print(\"Summary:\")\n",
        "  print(f\"Low: {low_days} day(s)\")\n",
        "  print(f\"Moderate: {moderate_days} day(s)\")\n",
        "  print(f\"High: {high_days} day(s)\")\n",
        "classify_power(arr)\n"
      ]
    },
    {
      "cell_type": "markdown",
      "source": [
        "Project: Power Usage Classifier\n",
        "🧾 Goal:\n",
        "Given a NumPy array of daily power usage values (in kWh), we want to classify each day's usage into:\n",
        "\n",
        "    🔵 Low → Usage < 2.5\n",
        "\n",
        "    🟡 Moderate → Usage between 2.5 and 5 (inclusive of 2.5, but not 5)\n",
        "\n",
        "    🔴 High → Usage ≥ 5\n",
        "\n",
        "✅ Step-by-Step Logic Explanation\n",
        "\n",
        "🔹 Step 1:\n",
        "\n",
        "    Import NumPy & Create Input Array\n",
        "    \n",
        "    You’ll use a NumPy array to store power usage for 7 days (1 week).\n",
        "\n",
        "    Example: [2.1, 3.5, 4.2, 6.0, 1.8, 5.6, 3.3]\n",
        "\n",
        "    Each index = one day (Day 1 to Day 7)\n",
        "\n",
        "🔹 Step 2:\n",
        "    \n",
        "    Create a Function\n",
        "\n",
        "    Define a function like classify_power(usage)\n",
        "\n",
        "It should:\n",
        "\n",
        "    Loop through each value in the usage array\n",
        "\n",
        "Based on value:\n",
        "\n",
        "    Label it as Low, Moderate, or High\n",
        "\n",
        "    Print the label with corresponding day\n",
        "\n",
        "🔹 Step 3:\n",
        "\n",
        "    Inside the Loop → Use Conditions\n",
        "    \n",
        "    For each day's value:\n",
        "\n",
        "    If value < 2.5 → mark as “Low”\n",
        "\n",
        "    Else if value between 2.5 and 5 → “Moderate”\n",
        "\n",
        "    Else → “High”\n",
        "\n",
        "👉 These conditions can be done using:\n",
        "\n",
        "    A simple if-elif-else structure\n",
        "\n",
        "    Or a cleaner way using NumPy's where (optional at intermediate level)\n",
        "\n",
        "🔹 Step 4:\n",
        "    \n",
        "    Count the Categories\n",
        "   \n",
        "    While you’re classifying each day, also maintain counters for:\n",
        "\n",
        "    low_days, moderate_days, high_days\n",
        "\n",
        "    Increment them as per classification.\n",
        "\n",
        "🔹 Step 5:\n",
        "    \n",
        "    3Print Final Summary\n",
        "\n",
        "    After the loop:\n",
        "\n",
        "Print:\n",
        "Summary:\n",
        "\n",
        "    Low: X days\n",
        "    Moderate: Y days\n",
        "    High: Z days\n",
        "This gives a weekly overview of power usage."
      ],
      "metadata": {
        "id": "tliyYQnd9QfW"
      }
    }
  ]
}