{
 "cells": [
  {
   "cell_type": "code",
   "execution_count": 4,
   "id": "c2975c59",
   "metadata": {},
   "outputs": [
    {
     "name": "stdout",
     "output_type": "stream",
     "text": [
      "Enter your key:happycoding\n",
      "\n",
      "Encrypted text: mrttaqrhknsw ih puggrur\n",
      "Key: happycoding\n",
      "\n",
      "Decrypted text: freecodecamp is awesome\n",
      "\n"
     ]
    }
   ],
   "source": [
    "text = 'mrttaqrhknsw ih puggrur'\n",
    "custom_key = input(\"Enter your key:\").lower()\n",
    "#key is 'happycoding'\n",
    "\n",
    "def vigenere(message, key, direction=1):\n",
    "    key_index = 0\n",
    "    alphabet = 'abcdefghijklmnopqrstuvwxyz'\n",
    "    final_message = ''\n",
    "\n",
    "    for char in message.lower():\n",
    "\n",
    "        # Append any non-letter character to the message\n",
    "        if not char.isalpha():\n",
    "            final_message += char\n",
    "        else:        \n",
    "            # Find the right key character to encode/decode\n",
    "            key_char = key[key_index % len(key)]\n",
    "            key_index += 1\n",
    "\n",
    "            # Define the offset and the encrypted/decrypted letter\n",
    "            offset = alphabet.index(key_char)\n",
    "            index = alphabet.find(char)\n",
    "            new_index = (index + offset*direction) % len(alphabet)\n",
    "            final_message += alphabet[new_index]\n",
    "    \n",
    "    return final_message\n",
    "\n",
    "def encrypt(message, key):\n",
    "    return vigenere(message, key)\n",
    "    \n",
    "def decrypt(message, key):\n",
    "    return vigenere(message, key, -1)\n",
    "\n",
    "print(f'\\nEncrypted text: {text}')\n",
    "print(f'Key: {custom_key}')\n",
    "decryption = decrypt(text, custom_key)\n",
    "print(f'\\nDecrypted text: {decryption}\\n')"
   ]
  },
  {
   "cell_type": "code",
   "execution_count": null,
   "id": "d47e7197",
   "metadata": {},
   "outputs": [],
   "source": [
    "0 1 2 3 4 5 6 7 8 9 10 11 12 13 14 15 16 17 18 19 20 21 22 23 24 25\n",
    "A B C D E F G H I J  K  L  M  N  O  P  Q  R  S  T  U  V  W  X  Y  Z"
   ]
  }
 ],
 "metadata": {
  "kernelspec": {
   "display_name": "Python 3 (ipykernel)",
   "language": "python",
   "name": "python3"
  },
  "language_info": {
   "codemirror_mode": {
    "name": "ipython",
    "version": 3
   },
   "file_extension": ".py",
   "mimetype": "text/x-python",
   "name": "python",
   "nbconvert_exporter": "python",
   "pygments_lexer": "ipython3",
   "version": "3.10.9"
  }
 },
 "nbformat": 4,
 "nbformat_minor": 5
}
