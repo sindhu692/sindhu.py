{
 "cells": [
  {
   "cell_type": "code",
   "execution_count": 2,
   "id": "a39408d2",
   "metadata": {},
   "outputs": [
    {
     "name": "stdout",
     "output_type": "stream",
     "text": [
      "50\n",
      "VALID!\n"
     ]
    }
   ],
   "source": [
    "def verify_card_number(card_number):\n",
    "    sum_of_odd_digits = 0\n",
    "    card_number_reversed = card_number[::-1]\n",
    "    odd_digits = card_number_reversed[::2]\n",
    "\n",
    "    for digit in odd_digits:\n",
    "        sum_of_odd_digits += int(digit)\n",
    "\n",
    "    sum_of_even_digits = 0\n",
    "    even_digits = card_number_reversed[1::2]\n",
    "    for digit in even_digits:\n",
    "        number = int(digit) * 2\n",
    "        if number >= 10:\n",
    "            number = (number // 10) + (number % 10)\n",
    "        sum_of_even_digits += number\n",
    "    total = sum_of_odd_digits + sum_of_even_digits\n",
    "    print(total)\n",
    "    return total % 10 == 0\n",
    "\n",
    "def main():\n",
    "    card_number = '4111-1111-4555-1142'\n",
    "    card_translation = str.maketrans({'-': '', ' ': ''})\n",
    "    translated_card_number = card_number.translate(card_translation)\n",
    "\n",
    "    if verify_card_number(translated_card_number):\n",
    "        print('VALID!')\n",
    "    else:\n",
    "        print('INVALID!')\n",
    "\n",
    "main()"
   ]
  },
  {
   "cell_type": "code",
   "execution_count": null,
   "id": "262a0e05",
   "metadata": {},
   "outputs": [],
   "source": []
  }
 ],
 "metadata": {
  "kernelspec": {
   "display_name": "Python 3 (ipykernel)",
   "language": "python",
   "name": "python3"
  },
  "language_info": {
   "codemirror_mode": {
    "name": "ipython",
    "version": 3
   },
   "file_extension": ".py",
   "mimetype": "text/x-python",
   "name": "python",
   "nbconvert_exporter": "python",
   "pygments_lexer": "ipython3",
   "version": "3.10.9"
  }
 },
 "nbformat": 4,
 "nbformat_minor": 5
}
