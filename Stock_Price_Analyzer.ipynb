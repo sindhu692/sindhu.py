{
  "nbformat": 4,
  "nbformat_minor": 0,
  "metadata": {
    "colab": {
      "provenance": [],
      "authorship_tag": "ABX9TyP/lfEmw6+fkbfD4N+9n+x2",
      "include_colab_link": true
    },
    "kernelspec": {
      "name": "python3",
      "display_name": "Python 3"
    },
    "language_info": {
      "name": "python"
    }
  },
  "cells": [
    {
      "cell_type": "markdown",
      "metadata": {
        "id": "view-in-github",
        "colab_type": "text"
      },
      "source": [
        "<a href=\"https://colab.research.google.com/github/sindhu692/sindhu.py/blob/main/Stock_Price_Analyzer.ipynb\" target=\"_parent\"><img src=\"https://colab.research.google.com/assets/colab-badge.svg\" alt=\"Open In Colab\"/></a>"
      ]
    },
    {
      "cell_type": "code",
      "source": [
        "print(\"Welcome\")\n",
        "print(\"Have a great day\")\n",
        "import numpy\n",
        "import numpy as np\n",
        "days=[\"Mon\",\"Tue\",\"Wed\",\"Thu\",\"Fri\",\"Sat\",\"Sun\"]\n",
        "stock_day_wise=[]\n",
        "for i in range(len(days)):\n",
        "\n",
        " while True:\n",
        "    try:\n",
        "      user=(input(f\"Enter your stock price for {days[i]} day:\"))\n",
        "      stock_day_wise.append(int(user))\n",
        "      break\n",
        "    except ValueError:\n",
        "      print(\"Invalid input try again\")\n",
        "\n",
        "arr=np.array(stock_day_wise)\n",
        "print(arr)\n",
        "print(\"-------------------------------------------\")\n",
        "print(\"Your stock price analyzer\")\n",
        "print(\"-------------------------------------------\")\n",
        "print(f\"Highest price of the week:₹{np.max(arr)}\")\n",
        "print(f\"Lowest price of the week:₹{np.min(arr)}\")\n",
        "print(f\"Average price of the week:₹{np.mean(arr)}\")\n",
        "print(f\"Difference in between 7 days:₹{np.max(arr)-np.min(arr)}\")\n",
        "percent=((stock_day_wise[-1]-stock_day_wise[0])/stock_day_wise[0])*100\n",
        "print(f\"Price increased by {round(percent,2)}%\")\n",
        "price_diff=np.diff(stock_day_wise)\n",
        "spike_indeces=np.where(price_diff>500)[0]\n",
        "if len(spike_indeces)==0:\n",
        "  print(\"No spike values in this week\")\n",
        "else:\n",
        "  print(\"your spike difference greater than 500:\",spike_indeces)\n",
        "  for i in spike_indeces:\n",
        "    print(f\"{days[i]} ➡ {days[i+1]}: ₹{stock_day_wise[i]} ➡ ₹{stock_day_wise[i+1]}\")\n"
      ],
      "metadata": {
        "id": "kaK1F-Kve33W"
      },
      "execution_count": 26,
      "outputs": []
    },
    {
      "cell_type": "markdown",
      "source": [
        "We created a project called Stock Price Analyzer using NumPy and arrays.\n",
        "\n",
        "📌 What it does:\n",
        "Takes 7 days of stock prices (like Mon to Sun).\n",
        "\n",
        "Finds out:\n",
        "\n",
        "          Which day had the highest price?\n",
        "\n",
        "          Which day had the lowest price?\n",
        "\n",
        "          What is the average price for the week?\n",
        "\n",
        "          How much % the price increased from Monday to Sunday?\n",
        "\n",
        "          On which days price suddenly jumped by more than ₹500?\n",
        "\n",
        "📌 Real-life feel:\n",
        "Imagine you're tracking a company’s stock. You want to know:\n",
        "\n",
        "        \"Did the price go up this week?\"\n",
        "        \"When was it highest?\"\n",
        "        \"Any day it jumped a lot suddenly?\"\n",
        "\n",
        "So instead of checking manually, you write this smart code using\n",
        "NumPy to analyze it in one shot!\n",
        "\n",
        "📌 Key Logic:\n",
        "\n",
        "        np.max() → Finds highest value\n",
        "\n",
        "        np.min() → Finds lowest value\n",
        "\n",
        "        np.mean() → Average\n",
        "\n",
        "        np.diff() → Tells you how much price changed day to day\n",
        "\n",
        "        We check where np.diff() is more than ₹500 → That’s a spike 🔥\n",
        "\n",
        "        Then calculate % change from day 1 to day 7\n",
        "\n",
        "Sample Output:\n",
        "\n",
        "        Highest Price: ₹3700\n",
        "        Lowest Price: ₹2500\n",
        "        Average Price: ₹3028.57\n",
        "        Price Growth this week: 48%\n",
        "\n",
        "Spikes:\n",
        "\n",
        "        Wed ➡ Thu: ₹2700 ➡ ₹3300\n",
        "        Fri ➡ Sat: ₹2800 ➡ ₹3500"
      ],
      "metadata": {
        "id": "9Kg2dS2Tav8S"
      }
    },
    {
      "cell_type": "code",
      "source": [],
      "metadata": {
        "id": "PAxHnSIhaRwV"
      },
      "execution_count": null,
      "outputs": []
    }
  ]
}