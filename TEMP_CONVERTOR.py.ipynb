{
 "cells": [
  {
   "cell_type": "code",
   "execution_count": null,
   "id": "11453584",
   "metadata": {},
   "outputs": [],
   "source": [
    "#>>>>>>>>>>>>>TEMP CONVERTOR<<<<<<<<<<<<<<<<<<<<<<<<<<<<<\n",
    "print(\"Welcome to temp convertor\")\n",
    "n = input(\"How r u my dear: \")\n",
    "if n == \"good\":\n",
    "    print(\"That's great to hear you\")\n",
    "elif n == \"bad\":\n",
    "    print(\"I will pray for you a great time\")\n",
    "else:\n",
    "    print(\"Thanks for replying\")\n",
    "\n",
    "print(\"Have a great day\")\n",
    "print(\"Do you want to convert\")\n",
    "print(\"1) Celsius to Fahrenheit\")\n",
    "print(\"2) Fahrenheit to Celsius\")\n",
    "\n",
    "while True:\n",
    "    choice = int(input(\"Enter your choice (1 or 2): \"))\n",
    "    \n",
    "    if choice == 1:\n",
    "        user = float(input(\"Enter your temp: \"))\n",
    "        f = (user * 9 / 5) + 32\n",
    "        print(f\"Converted to Fahrenheit: {f:.2f}°F\")\n",
    "        print(\"Thank you\")\n",
    "\n",
    "    elif choice == 2:\n",
    "        user = float(input(\"Enter your temp: \"))\n",
    "        c = (user - 32) * 5 / 9\n",
    "        print(f\"Converted to Celsius: {c:.2f}°C\")\n",
    "        print(\"Thank you\")\n",
    "\n",
    "    else:\n",
    "        print(\"Invalid input.. please try again\")  # No need for symbols check separately\n",
    "\n",
    "    want_to_continue = input(\"Do you want to convert again? (yes/no): \")\n",
    "    if want_to_continue.lower() != \"yes\":\n",
    "        break\n"
   ]
  }
 ],
 "metadata": {
  "kernelspec": {
   "display_name": "Python 3 (ipykernel)",
   "language": "python",
   "name": "python3"
  },
  "language_info": {
   "codemirror_mode": {
    "name": "ipython",
    "version": 3
   },
   "file_extension": ".py",
   "mimetype": "text/x-python",
   "name": "python",
   "nbconvert_exporter": "python",
   "pygments_lexer": "ipython3",
   "version": "3.10.9"
  }
 },
 "nbformat": 4,
 "nbformat_minor": 5
}
