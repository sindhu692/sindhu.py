{
  "nbformat": 4,
  "nbformat_minor": 0,
  "metadata": {
    "colab": {
      "provenance": [],
      "authorship_tag": "ABX9TyOFD6WTPF00LzHel3UumPWn",
      "include_colab_link": true
    },
    "kernelspec": {
      "name": "python3",
      "display_name": "Python 3"
    },
    "language_info": {
      "name": "python"
    }
  },
  "cells": [
    {
      "cell_type": "markdown",
      "metadata": {
        "id": "view-in-github",
        "colab_type": "text"
      },
      "source": [
        "<a href=\"https://colab.research.google.com/github/sindhu692/sindhu.py/blob/main/Student_marks_analyzer.ipynb\" target=\"_parent\"><img src=\"https://colab.research.google.com/assets/colab-badge.svg\" alt=\"Open In Colab\"/></a>"
      ]
    },
    {
      "cell_type": "code",
      "execution_count": 23,
      "metadata": {
        "colab": {
          "base_uri": "https://localhost:8080/"
        },
        "id": "NGp7Eviq1Nrm",
        "outputId": "f60b5dbe-b5ba-447a-b6fa-062081365f20"
      },
      "outputs": [
        {
          "output_type": "stream",
          "name": "stdout",
          "text": [
            "Student marks analyszer\n",
            "\n",
            "Goal:Accept marks of multiple students using arrays\n",
            "Enter no of student:3\n",
            "Enter no of subjects:3\n",
            "Enter marks for student1: 34,45,56\n",
            "Enter marks for student2: 90,98,100\n",
            "Enter marks for student3: 0,29,35\n",
            "[[ 34  45  56]\n",
            " [ 90  98 100]\n",
            " [  0  29  35]]\n",
            "----------------------------------\n",
            "student marks analyzer\n",
            "----------------------------------\n",
            "----------------------------------\n",
            "student 1 avg 45.0\n",
            "Grade D\n",
            "student 2 avg 96.0\n",
            "Student 2 is the topper with avg of 96.0\n",
            "Grade A\n",
            "student 3 avg 21.33\n",
            "Fail\n",
            "Highest marks in subject 1 as 90\n",
            "student 2 is topper in subject 1 with 90\n",
            "Highest marks in subject 2 as 98\n",
            "student 2 is topper in subject 2 with 98\n",
            "Highest marks in subject 3 as 100\n",
            "student 2 is topper in subject 3 with 100\n"
          ]
        }
      ],
      "source": [
        "print(\"Student marks analyszer\\n\")\n",
        "print(\"Goal:Accept marks of multiple students using arrays\")\n",
        "import numpy\n",
        "import numpy as np\n",
        "stud1=int(input(\"Enter no of student:\"))\n",
        "sub1=int(input(\"Enter no of subjects:\"))\n",
        "l=[]\n",
        "while True:\n",
        "\n",
        "\n",
        "    for i in range(1,stud1+1):\n",
        "        marks=input(f\"Enter marks for student{i}: \").split(\",\")\n",
        "        #marks=int(input(\"Enter marks of a student:\"))\n",
        "        temp=[]\n",
        "        for m in marks:\n",
        "            marks=int(m)\n",
        "            temp.append(int(m))\n",
        "        l.append(temp)\n",
        "\n",
        "    break\n",
        "arr=np.array(l)\n",
        "print(arr)\n",
        "print(\"----------------------------------\")\n",
        "print(\"student marks analyzer\")\n",
        "print(\"----------------------------------\")\n",
        "\n",
        "arr1=np.mean(arr,axis=1)\n",
        "max_val=np.max(arr1)\n",
        "for index,value in enumerate(arr1):\n",
        "  print(f\"student {index+1} avg {round(value,2)}\")\n",
        "  if max_val==value:\n",
        "    print(f\"Student {index+1} is the topper with avg of {max_val}\")\n",
        "  if value >=90:\n",
        "    print(\"Grade A\")\n",
        "  elif value>=70:\n",
        "    print(\"Grade B\")\n",
        "  elif value>=50:\n",
        "    print(\"Grade C\")\n",
        "  elif value>=35:\n",
        "    print(\"Grade D\")\n",
        "  else:\n",
        "    print(\"Fail\")\n",
        "for t in range(arr.shape[1]):\n",
        "  s=arr[:,t]\n",
        "  s=np.max(arr[:,t])\n",
        "  print(f\"Highest marks in subject {t+1} as {s}\")\n",
        "  for i in range(arr.shape[0]):\n",
        "    if arr[i][t]==s:\n",
        "      print(f\"student {i+1} is topper in subject {t+1} with {s}\")"
      ]
    },
    {
      "cell_type": "markdown",
      "source": [
        "Project Idea: Student Marks Analyzer using NumPy\n",
        "\n",
        "🎯 Goal:\n",
        "        Accept marks of multiple students using arrays\n",
        "\n",
        "Use NumPy to analyze:\n",
        "\n",
        "    Average\n",
        "\n",
        "    Highest, Lowest\n",
        "\n",
        "    Subject-wise Toppers\n",
        "\n",
        "    Grade classification (above 75 = Distinction, etc.)\n",
        "\n",
        "🧠 Sample Features:\n",
        "\n",
        "    Input: Number of students & subjects\n",
        "\n",
        "    Accept marks using NumPy array\n",
        "\n",
        "Print:\n",
        "\n",
        "    Each student’s average\n",
        "\n",
        "    Subject-wise topper\n",
        "\n",
        "    Class overall average\n",
        "\n",
        "    Grade classification (with condition)\n",
        "\n",
        "🧾 Example Output:\n",
        "\n",
        "    Enter no. of students: 3\n",
        "    Enter no. of subjects: 2\n",
        "\n",
        "    Enter marks for student 1: 80 90\n",
        "    Enter marks for student 2: 60 70\n",
        "    Enter marks for student 3: 100 95\n",
        "\n",
        "🎓 Results:\n",
        "\n",
        "    Student 1: Avg = 85.0 -> Grade: Distinction\n",
        "    Student 2: Avg = 65.0 -> Grade: First Class\n",
        "    Student 3: Avg = 97.5 -> Grade: Distinction\n",
        "\n",
        "    Subject 1 Topper: Student 3 (100)\n",
        "    Subject 2 Topper: Student 3 (95)\n",
        "\n",
        "    Class Average: 82.5\n"
      ],
      "metadata": {
        "id": "Af2zGht3wmsp"
      }
    },
    {
      "cell_type": "code",
      "source": [],
      "metadata": {
        "id": "U0ew30yNpRMG"
      },
      "execution_count": null,
      "outputs": []
    }
  ]
}