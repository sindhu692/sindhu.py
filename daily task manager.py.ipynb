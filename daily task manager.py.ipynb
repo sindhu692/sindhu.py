{
 "cells": [
  {
   "cell_type": "code",
   "execution_count": null,
   "id": "12840165",
   "metadata": {},
   "outputs": [],
   "source": [
    "#Daily task manager"
   ]
  },
  {
   "cell_type": "code",
   "execution_count": null,
   "id": "995fefa4",
   "metadata": {},
   "outputs": [],
   "source": [
    "import json\n",
    "import os\n",
    "print(\" Daily Task Manager\")\n",
    "print(\"hello,have a nice day\")\n",
    "task={}\n",
    "if os.path.exists(\"task.json\"):\n",
    "    with open(\"task.json\",'r') as file:\n",
    "        task = json.load(file)\n",
    "def save_tasks():\n",
    "    with open(\"task.json\",'w')as file:\n",
    "        json.dump(task,file)\n",
    "while True:\n",
    "    print(\"\\n1. Add Task\\n2. View Tasks\\n3. Mark Task as Completed\\n4. Delete Task\\n5. Exit\")\n",
    "    choose=int(input(\"Enter your choice:\"))\n",
    "    \n",
    "    if choose==1:\n",
    "        h=int(input(\"how many tasks you want enter:\"))\n",
    "        for i in range(h):\n",
    "            n=input(\"Enter your task:\").upper()\n",
    "            q=int(input(\"Enter your time:\"))\n",
    "            t=input(\"Enter your time(am or pm):\")\n",
    "            task[n]=f\"{q}{t}\"\n",
    "        save_tasks()   \n",
    "    elif choose==2:\n",
    "        print(\"Your today tasks are\")\n",
    "        print(\"Have a look sir/madam\")\n",
    "        for k,v in task.items():\n",
    "            print(f\"{k} at {v}\")\n",
    "    elif choose==3:\n",
    "        n=input(\"Enter your task:\").upper()\n",
    "        if n in task:\n",
    "            print(f\"Task {n} is marked as completed\")\n",
    "            task.pop(n) \n",
    "        else:\n",
    "            print(\"Invalid task\")\n",
    "    elif choose==4:\n",
    "        h=int(input(\"how many tasks you want delete:\"))\n",
    "        for i in range(h):\n",
    "            n=input(\"Enter your task:\").upper()\n",
    "            if n in task:\n",
    "                task.pop(n)\n",
    "                print(\"Task is deleted\")\n",
    "                print(task)\n",
    "                save_tasks()\n",
    "            else:\n",
    "                print(\"Invalid task to delete\")\n",
    "    elif choose==5:\n",
    "        print(\"Are you sure you want to exit\")\n",
    "        print(\"Thankyou\")\n",
    "        break\n",
    "    else:\n",
    "        print(\"Your input is invalid\")\n",
    "        "
   ]
  },
  {
   "cell_type": "code",
   "execution_count": null,
   "id": "6b3875b9",
   "metadata": {},
   "outputs": [],
   "source": []
  }
 ],
 "metadata": {
  "kernelspec": {
   "display_name": "Python 3 (ipykernel)",
   "language": "python",
   "name": "python3"
  },
  "language_info": {
   "codemirror_mode": {
    "name": "ipython",
    "version": 3
   },
   "file_extension": ".py",
   "mimetype": "text/x-python",
   "name": "python",
   "nbconvert_exporter": "python",
   "pygments_lexer": "ipython3",
   "version": "3.10.9"
  }
 },
 "nbformat": 4,
 "nbformat_minor": 5
}
